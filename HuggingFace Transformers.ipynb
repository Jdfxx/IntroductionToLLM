{
 "cells": [
  {
   "cell_type": "markdown",
   "id": "93df7da0",
   "metadata": {},
   "source": [
    "## HuggingFace Transformers"
   ]
  },
  {
   "cell_type": "code",
   "execution_count": 1,
   "id": "517f4e28",
   "metadata": {
    "ExecuteTime": {
     "end_time": "2025-03-21T12:18:02.814786Z",
     "start_time": "2025-03-21T12:17:56.871769Z"
    }
   },
   "outputs": [],
   "source": [
    "from transformers import pipeline"
   ]
  },
  {
   "cell_type": "code",
   "execution_count": 2,
   "id": "2a126472",
   "metadata": {
    "ExecuteTime": {
     "end_time": "2025-03-21T12:18:05.741376Z",
     "start_time": "2025-03-21T12:18:02.826301Z"
    }
   },
   "outputs": [
    {
     "name": "stderr",
     "output_type": "stream",
     "text": [
      "No model was supplied, defaulted to distilbert/distilbert-base-uncased-finetuned-sst-2-english and revision 714eb0f (https://huggingface.co/distilbert/distilbert-base-uncased-finetuned-sst-2-english).\n",
      "Using a pipeline without specifying a model name and revision in production is not recommended.\n"
     ]
    },
    {
     "name": "stdout",
     "output_type": "stream",
     "text": [
      "WARNING:tensorflow:From C:\\Dev\\anaconda\\Lib\\site-packages\\tf_keras\\src\\losses.py:2976: The name tf.losses.sparse_softmax_cross_entropy is deprecated. Please use tf.compat.v1.losses.sparse_softmax_cross_entropy instead.\n",
      "\n"
     ]
    },
    {
     "name": "stderr",
     "output_type": "stream",
     "text": [
      "Device set to use cpu\n"
     ]
    }
   ],
   "source": [
    "sentiment_classifier = pipeline(\"sentiment-analysis\")"
   ]
  },
  {
   "cell_type": "code",
   "execution_count": 3,
   "id": "b8734d53",
   "metadata": {
    "ExecuteTime": {
     "end_time": "2025-03-21T12:18:05.960469Z",
     "start_time": "2025-03-21T12:18:05.803097Z"
    }
   },
   "outputs": [
    {
     "data": {
      "text/plain": [
       "[{'label': 'POSITIVE', 'score': 0.9997096657752991}]"
      ]
     },
     "execution_count": 3,
     "metadata": {},
     "output_type": "execute_result"
    }
   ],
   "source": [
    "sentiment_classifier(\"I'm so excited to be learning about large language models\")"
   ]
  },
  {
   "cell_type": "code",
   "execution_count": 4,
   "id": "ce372696",
   "metadata": {
    "ExecuteTime": {
     "end_time": "2025-03-21T12:18:06.231253Z",
     "start_time": "2025-03-21T12:18:05.967005Z"
    }
   },
   "outputs": [
    {
     "name": "stderr",
     "output_type": "stream",
     "text": [
      "Some weights of the model checkpoint at dslim/bert-base-NER were not used when initializing BertForTokenClassification: ['bert.pooler.dense.bias', 'bert.pooler.dense.weight']\n",
      "- This IS expected if you are initializing BertForTokenClassification from the checkpoint of a model trained on another task or with another architecture (e.g. initializing a BertForSequenceClassification model from a BertForPreTraining model).\n",
      "- This IS NOT expected if you are initializing BertForTokenClassification from the checkpoint of a model that you expect to be exactly identical (initializing a BertForSequenceClassification model from a BertForSequenceClassification model).\n",
      "Device set to use cpu\n"
     ]
    }
   ],
   "source": [
    "ner = pipeline(\"ner\", model = \"dslim/bert-base-NER\")"
   ]
  },
  {
   "cell_type": "markdown",
   "id": "fac8dd1f",
   "metadata": {},
   "source": [
    "ner(\"Her name is Anna and she works in New York City for Morgan Stanley\")"
   ]
  },
  {
   "cell_type": "code",
   "execution_count": 5,
   "id": "f464febe",
   "metadata": {
    "ExecuteTime": {
     "end_time": "2025-03-21T12:18:06.994599Z",
     "start_time": "2025-03-21T12:18:06.238596Z"
    }
   },
   "outputs": [
    {
     "name": "stderr",
     "output_type": "stream",
     "text": [
      "Device set to use cpu\n"
     ]
    }
   ],
   "source": [
    "zeroshot_classifier = pipeline(\"zero-shot-classification\", model = \"facebook/bart-large-mnli\")"
   ]
  },
  {
   "cell_type": "code",
   "execution_count": 6,
   "id": "c138d0c0",
   "metadata": {
    "ExecuteTime": {
     "end_time": "2025-03-21T12:18:07.005380Z",
     "start_time": "2025-03-21T12:18:07.001627Z"
    }
   },
   "outputs": [],
   "source": [
    "sequence_to_classify = \"one day I will see the world\"\n",
    "candidate_labels = ['travel', 'cooking', 'dancing']"
   ]
  },
  {
   "cell_type": "code",
   "execution_count": 7,
   "id": "3a6eaf1a",
   "metadata": {
    "ExecuteTime": {
     "end_time": "2025-03-21T12:18:08.393646Z",
     "start_time": "2025-03-21T12:18:07.012396Z"
    }
   },
   "outputs": [
    {
     "data": {
      "text/plain": [
       "{'sequence': 'one day I will see the world',\n",
       " 'labels': ['travel', 'dancing', 'cooking'],\n",
       " 'scores': [0.9938650727272034, 0.0032737981528043747, 0.0028610387817025185]}"
      ]
     },
     "execution_count": 7,
     "metadata": {},
     "output_type": "execute_result"
    }
   ],
   "source": [
    "zeroshot_classifier(sequence_to_classify, candidate_labels)"
   ]
  },
  {
   "cell_type": "markdown",
   "id": "130de83c",
   "metadata": {},
   "source": [
    "## Pre-trained Tokenizers"
   ]
  },
  {
   "cell_type": "code",
   "execution_count": 8,
   "id": "5e8b1939",
   "metadata": {
    "ExecuteTime": {
     "end_time": "2025-03-21T12:18:08.403220Z",
     "start_time": "2025-03-21T12:18:08.399585Z"
    }
   },
   "outputs": [],
   "source": [
    "from transformers import AutoTokenizer"
   ]
  },
  {
   "cell_type": "code",
   "execution_count": 9,
   "id": "6cb44b10",
   "metadata": {
    "ExecuteTime": {
     "end_time": "2025-03-21T12:18:08.443066Z",
     "start_time": "2025-03-21T12:18:08.440288Z"
    }
   },
   "outputs": [],
   "source": [
    "model = \"bert-base-uncased\""
   ]
  },
  {
   "cell_type": "code",
   "execution_count": 10,
   "id": "5de15bf0",
   "metadata": {
    "ExecuteTime": {
     "end_time": "2025-03-21T12:18:08.661733Z",
     "start_time": "2025-03-21T12:18:08.474318Z"
    }
   },
   "outputs": [],
   "source": [
    "tokenizer = AutoTokenizer.from_pretrained(model)"
   ]
  },
  {
   "cell_type": "code",
   "execution_count": 11,
   "id": "f503b38a",
   "metadata": {
    "ExecuteTime": {
     "end_time": "2025-03-21T12:18:08.668252Z",
     "start_time": "2025-03-21T12:18:08.665254Z"
    }
   },
   "outputs": [],
   "source": [
    "sentence = \"I'm so excited to be learning about large language models\""
   ]
  },
  {
   "cell_type": "code",
   "execution_count": 12,
   "id": "e0970810",
   "metadata": {
    "ExecuteTime": {
     "end_time": "2025-03-21T12:18:08.682184Z",
     "start_time": "2025-03-21T12:18:08.678828Z"
    }
   },
   "outputs": [
    {
     "name": "stdout",
     "output_type": "stream",
     "text": [
      "{'input_ids': [101, 1045, 1005, 1049, 2061, 7568, 2000, 2022, 4083, 2055, 2312, 2653, 4275, 102], 'token_type_ids': [0, 0, 0, 0, 0, 0, 0, 0, 0, 0, 0, 0, 0, 0], 'attention_mask': [1, 1, 1, 1, 1, 1, 1, 1, 1, 1, 1, 1, 1, 1]}\n"
     ]
    }
   ],
   "source": [
    "input_ids = tokenizer(sentence)\n",
    "print(input_ids)"
   ]
  },
  {
   "cell_type": "code",
   "execution_count": 13,
   "id": "3a41e755",
   "metadata": {
    "ExecuteTime": {
     "end_time": "2025-03-21T12:18:08.705559Z",
     "start_time": "2025-03-21T12:18:08.702169Z"
    }
   },
   "outputs": [],
   "source": [
    "tokens = tokenizer.tokenize(sentence)"
   ]
  },
  {
   "cell_type": "code",
   "execution_count": 14,
   "id": "6e005444",
   "metadata": {
    "ExecuteTime": {
     "end_time": "2025-03-21T12:18:08.719587Z",
     "start_time": "2025-03-21T12:18:08.716588Z"
    }
   },
   "outputs": [
    {
     "name": "stdout",
     "output_type": "stream",
     "text": [
      "['i', \"'\", 'm', 'so', 'excited', 'to', 'be', 'learning', 'about', 'large', 'language', 'models']\n"
     ]
    }
   ],
   "source": [
    "print(tokens)"
   ]
  },
  {
   "cell_type": "code",
   "execution_count": 15,
   "id": "1cb5b40e",
   "metadata": {
    "ExecuteTime": {
     "end_time": "2025-03-21T12:18:08.742341Z",
     "start_time": "2025-03-21T12:18:08.739271Z"
    }
   },
   "outputs": [],
   "source": [
    "token_ids = tokenizer.convert_tokens_to_ids(tokens)"
   ]
  },
  {
   "cell_type": "code",
   "execution_count": 16,
   "id": "75a8ee5b",
   "metadata": {
    "ExecuteTime": {
     "end_time": "2025-03-21T12:18:08.755755Z",
     "start_time": "2025-03-21T12:18:08.752393Z"
    }
   },
   "outputs": [
    {
     "name": "stdout",
     "output_type": "stream",
     "text": [
      "[1045, 1005, 1049, 2061, 7568, 2000, 2022, 4083, 2055, 2312, 2653, 4275]\n"
     ]
    }
   ],
   "source": [
    "print(token_ids)"
   ]
  },
  {
   "cell_type": "code",
   "execution_count": 17,
   "id": "5f4e25c5",
   "metadata": {
    "ExecuteTime": {
     "end_time": "2025-03-21T12:18:08.771585Z",
     "start_time": "2025-03-21T12:18:08.768072Z"
    }
   },
   "outputs": [
    {
     "name": "stdout",
     "output_type": "stream",
     "text": [
      "i ' m so excited to be learning about large language models\n"
     ]
    }
   ],
   "source": [
    "decoded_ids = tokenizer.decode(token_ids)\n",
    "print(decoded_ids)"
   ]
  },
  {
   "cell_type": "code",
   "execution_count": 18,
   "id": "a97a1459",
   "metadata": {
    "ExecuteTime": {
     "end_time": "2025-03-21T12:18:08.797338Z",
     "start_time": "2025-03-21T12:18:08.791816Z"
    }
   },
   "outputs": [
    {
     "data": {
      "text/plain": [
       "'[CLS]'"
      ]
     },
     "execution_count": 18,
     "metadata": {},
     "output_type": "execute_result"
    }
   ],
   "source": [
    "tokenizer.decode(101)"
   ]
  },
  {
   "cell_type": "code",
   "execution_count": 19,
   "id": "75c0c5c8",
   "metadata": {
    "ExecuteTime": {
     "end_time": "2025-03-21T12:18:08.826218Z",
     "start_time": "2025-03-21T12:18:08.821766Z"
    }
   },
   "outputs": [
    {
     "data": {
      "text/plain": [
       "'[SEP]'"
      ]
     },
     "execution_count": 19,
     "metadata": {},
     "output_type": "execute_result"
    }
   ],
   "source": [
    "tokenizer.decode(102)"
   ]
  },
  {
   "cell_type": "code",
   "execution_count": 20,
   "id": "bd9b1780",
   "metadata": {
    "ExecuteTime": {
     "end_time": "2025-03-21T12:18:08.844785Z",
     "start_time": "2025-03-21T12:18:08.841759Z"
    }
   },
   "outputs": [],
   "source": [
    "model2 = \"xlnet-base-cased\""
   ]
  },
  {
   "cell_type": "code",
   "execution_count": 21,
   "id": "df5f1551",
   "metadata": {
    "ExecuteTime": {
     "end_time": "2025-03-21T12:18:09.470359Z",
     "start_time": "2025-03-21T12:18:08.856349Z"
    }
   },
   "outputs": [],
   "source": [
    "tokenizer2 = AutoTokenizer.from_pretrained(model2)"
   ]
  },
  {
   "cell_type": "code",
   "execution_count": 22,
   "id": "8adf9259",
   "metadata": {
    "ExecuteTime": {
     "end_time": "2025-03-21T12:18:09.485536Z",
     "start_time": "2025-03-21T12:18:09.481938Z"
    }
   },
   "outputs": [],
   "source": [
    "input_ids = tokenizer2(sentence)"
   ]
  },
  {
   "cell_type": "code",
   "execution_count": 23,
   "id": "11ed496e",
   "metadata": {
    "ExecuteTime": {
     "end_time": "2025-03-21T12:18:09.501792Z",
     "start_time": "2025-03-21T12:18:09.498745Z"
    }
   },
   "outputs": [
    {
     "name": "stdout",
     "output_type": "stream",
     "text": [
      "{'input_ids': [35, 26, 98, 102, 5564, 22, 39, 1899, 75, 392, 1243, 2626, 4, 3], 'token_type_ids': [0, 0, 0, 0, 0, 0, 0, 0, 0, 0, 0, 0, 0, 2], 'attention_mask': [1, 1, 1, 1, 1, 1, 1, 1, 1, 1, 1, 1, 1, 1]}\n"
     ]
    }
   ],
   "source": [
    "print(input_ids)"
   ]
  },
  {
   "cell_type": "code",
   "execution_count": 24,
   "id": "d36c6228",
   "metadata": {
    "ExecuteTime": {
     "end_time": "2025-03-21T12:18:09.531818Z",
     "start_time": "2025-03-21T12:18:09.527388Z"
    }
   },
   "outputs": [
    {
     "name": "stdout",
     "output_type": "stream",
     "text": [
      "['▁I', \"'\", 'm', '▁so', '▁excited', '▁to', '▁be', '▁learning', '▁about', '▁large', '▁language', '▁models']\n"
     ]
    }
   ],
   "source": [
    "tokens = tokenizer2.tokenize(sentence)\n",
    "print(tokens)"
   ]
  },
  {
   "cell_type": "code",
   "execution_count": 25,
   "id": "ba9c6510",
   "metadata": {
    "ExecuteTime": {
     "end_time": "2025-03-21T12:18:09.556598Z",
     "start_time": "2025-03-21T12:18:09.553492Z"
    }
   },
   "outputs": [
    {
     "name": "stdout",
     "output_type": "stream",
     "text": [
      "[35, 26, 98, 102, 5564, 22, 39, 1899, 75, 392, 1243, 2626]\n"
     ]
    }
   ],
   "source": [
    "token_ids = tokenizer2.convert_tokens_to_ids(tokens)\n",
    "print(token_ids)"
   ]
  },
  {
   "cell_type": "code",
   "execution_count": 26,
   "id": "63d0d239",
   "metadata": {
    "ExecuteTime": {
     "end_time": "2025-03-21T12:18:09.587192Z",
     "start_time": "2025-03-21T12:18:09.582656Z"
    }
   },
   "outputs": [
    {
     "data": {
      "text/plain": [
       "'<sep>'"
      ]
     },
     "execution_count": 26,
     "metadata": {},
     "output_type": "execute_result"
    }
   ],
   "source": [
    "tokenizer2.decode(4)"
   ]
  },
  {
   "cell_type": "code",
   "execution_count": 27,
   "id": "17837584",
   "metadata": {
    "ExecuteTime": {
     "end_time": "2025-03-21T12:18:09.614159Z",
     "start_time": "2025-03-21T12:18:09.609134Z"
    }
   },
   "outputs": [
    {
     "data": {
      "text/plain": [
       "'<cls>'"
      ]
     },
     "execution_count": 27,
     "metadata": {},
     "output_type": "execute_result"
    }
   ],
   "source": [
    "tokenizer2.decode(3)"
   ]
  },
  {
   "cell_type": "markdown",
   "id": "eda96361",
   "metadata": {},
   "source": [
    "## Huggingface and Pytorch/Tensorflow"
   ]
  },
  {
   "cell_type": "code",
   "execution_count": 28,
   "id": "10eb3082",
   "metadata": {
    "ExecuteTime": {
     "end_time": "2025-03-21T12:18:09.640483Z",
     "start_time": "2025-03-21T12:18:09.637484Z"
    }
   },
   "outputs": [],
   "source": [
    "from transformers import AutoTokenizer, AutoModelForSequenceClassification\n",
    "import torch"
   ]
  },
  {
   "cell_type": "code",
   "execution_count": 29,
   "id": "4b9de0a8",
   "metadata": {
    "ExecuteTime": {
     "end_time": "2025-03-21T12:18:09.656113Z",
     "start_time": "2025-03-21T12:18:09.652742Z"
    }
   },
   "outputs": [
    {
     "name": "stdout",
     "output_type": "stream",
     "text": [
      "I'm so excited to be learning about large language models\n",
      "{'input_ids': [35, 26, 98, 102, 5564, 22, 39, 1899, 75, 392, 1243, 2626, 4, 3], 'token_type_ids': [0, 0, 0, 0, 0, 0, 0, 0, 0, 0, 0, 0, 0, 2], 'attention_mask': [1, 1, 1, 1, 1, 1, 1, 1, 1, 1, 1, 1, 1, 1]}\n"
     ]
    }
   ],
   "source": [
    "print(sentence)\n",
    "print(input_ids)"
   ]
  },
  {
   "cell_type": "code",
   "execution_count": 30,
   "id": "a18fa6b0",
   "metadata": {
    "ExecuteTime": {
     "end_time": "2025-03-21T12:18:09.840433Z",
     "start_time": "2025-03-21T12:18:09.668431Z"
    }
   },
   "outputs": [],
   "source": [
    "tokenizer = AutoTokenizer.from_pretrained(\"distilbert-base-uncased-finetuned-sst-2-english\")"
   ]
  },
  {
   "cell_type": "code",
   "execution_count": 31,
   "id": "92de656d",
   "metadata": {
    "ExecuteTime": {
     "end_time": "2025-03-21T12:18:09.861123Z",
     "start_time": "2025-03-21T12:18:09.855617Z"
    }
   },
   "outputs": [
    {
     "name": "stdout",
     "output_type": "stream",
     "text": [
      "{'input_ids': tensor([[ 101, 1045, 1005, 1049, 2061, 7568, 2000, 2022, 4083, 2055, 2312, 2653,\n",
      "         4275,  102]]), 'attention_mask': tensor([[1, 1, 1, 1, 1, 1, 1, 1, 1, 1, 1, 1, 1, 1]])}\n"
     ]
    }
   ],
   "source": [
    "input_ids_pt = tokenizer(sentence, return_tensors =\"pt\")\n",
    "print(input_ids_pt)"
   ]
  },
  {
   "cell_type": "code",
   "execution_count": 32,
   "id": "46ecf145",
   "metadata": {
    "ExecuteTime": {
     "end_time": "2025-03-21T12:18:10.041729Z",
     "start_time": "2025-03-21T12:18:09.874183Z"
    }
   },
   "outputs": [],
   "source": [
    "model = AutoModelForSequenceClassification.from_pretrained(\"distilbert-base-uncased-finetuned-sst-2-english\")"
   ]
  },
  {
   "cell_type": "code",
   "execution_count": 33,
   "id": "7cf09a14",
   "metadata": {
    "ExecuteTime": {
     "end_time": "2025-03-21T12:18:10.202217Z",
     "start_time": "2025-03-21T12:18:10.054249Z"
    }
   },
   "outputs": [
    {
     "data": {
      "text/plain": [
       "'POSITIVE'"
      ]
     },
     "execution_count": 33,
     "metadata": {},
     "output_type": "execute_result"
    }
   ],
   "source": [
    "with torch.no_grad():\n",
    "    logits = model(**input_ids_pt).logits\n",
    "\n",
    "predicted_class_id = logits.argmax().item()\n",
    "model.config.id2label[predicted_class_id]"
   ]
  },
  {
   "cell_type": "markdown",
   "id": "6a0802a3",
   "metadata": {},
   "source": [
    "## Saving and loading models"
   ]
  },
  {
   "cell_type": "code",
   "execution_count": 34,
   "id": "5a34c7e0",
   "metadata": {
    "ExecuteTime": {
     "end_time": "2025-03-21T12:18:10.218326Z",
     "start_time": "2025-03-21T12:18:10.215242Z"
    }
   },
   "outputs": [],
   "source": [
    "model_directory = \"my_saved_models\""
   ]
  },
  {
   "cell_type": "code",
   "execution_count": 35,
   "id": "dc9a7c4b",
   "metadata": {
    "ExecuteTime": {
     "end_time": "2025-03-21T12:18:10.246617Z",
     "start_time": "2025-03-21T12:18:10.232872Z"
    }
   },
   "outputs": [
    {
     "data": {
      "text/plain": [
       "('my_saved_models\\\\tokenizer_config.json',\n",
       " 'my_saved_models\\\\special_tokens_map.json',\n",
       " 'my_saved_models\\\\vocab.txt',\n",
       " 'my_saved_models\\\\added_tokens.json',\n",
       " 'my_saved_models\\\\tokenizer.json')"
      ]
     },
     "execution_count": 35,
     "metadata": {},
     "output_type": "execute_result"
    }
   ],
   "source": [
    "tokenizer.save_pretrained(model_directory)"
   ]
  },
  {
   "cell_type": "code",
   "execution_count": 36,
   "id": "d7cfb1d1",
   "metadata": {
    "ExecuteTime": {
     "end_time": "2025-03-21T12:18:10.534053Z",
     "start_time": "2025-03-21T12:18:10.260165Z"
    }
   },
   "outputs": [],
   "source": [
    "model.save_pretrained(model_directory)"
   ]
  },
  {
   "cell_type": "code",
   "execution_count": 37,
   "id": "f6c1034b",
   "metadata": {
    "ExecuteTime": {
     "end_time": "2025-03-21T12:18:10.581213Z",
     "start_time": "2025-03-21T12:18:10.546940Z"
    }
   },
   "outputs": [],
   "source": [
    "my_tokenizer = AutoTokenizer.from_pretrained(model_directory)"
   ]
  },
  {
   "cell_type": "code",
   "execution_count": 38,
   "id": "c76b4a82",
   "metadata": {
    "ExecuteTime": {
     "end_time": "2025-03-21T12:18:10.629342Z",
     "start_time": "2025-03-21T12:18:10.597185Z"
    }
   },
   "outputs": [],
   "source": [
    "my_model = AutoModelForSequenceClassification.from_pretrained(model_directory)"
   ]
  }
 ],
 "metadata": {
  "kernelspec": {
   "display_name": "Python [conda env:base] *",
   "language": "python",
   "name": "conda-base-py"
  },
  "language_info": {
   "codemirror_mode": {
    "name": "ipython",
    "version": 3
   },
   "file_extension": ".py",
   "mimetype": "text/x-python",
   "name": "python",
   "nbconvert_exporter": "python",
   "pygments_lexer": "ipython3",
   "version": "3.12.3"
  }
 },
 "nbformat": 4,
 "nbformat_minor": 5
}
