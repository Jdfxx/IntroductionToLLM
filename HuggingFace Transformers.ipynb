{
 "cells": [
  {
   "cell_type": "markdown",
   "id": "93df7da0",
   "metadata": {},
   "source": [
    "## HuggingFace Transformers"
   ]
  },
  {
   "cell_type": "code",
   "id": "517f4e28",
   "metadata": {
    "ExecuteTime": {
     "end_time": "2025-03-19T12:56:18.591857Z",
     "start_time": "2025-03-19T12:56:18.588853Z"
    }
   },
   "source": [
    "from transformers import pipeline"
   ],
   "outputs": [],
   "execution_count": 7
  },
  {
   "cell_type": "code",
   "id": "2a126472",
   "metadata": {
    "ExecuteTime": {
     "end_time": "2025-03-19T12:56:18.814821Z",
     "start_time": "2025-03-19T12:56:18.621624Z"
    }
   },
   "source": [
    "sentiment_classifier = pipeline(\"sentiment-analysis\")"
   ],
   "outputs": [
    {
     "name": "stderr",
     "output_type": "stream",
     "text": [
      "No model was supplied, defaulted to distilbert/distilbert-base-uncased-finetuned-sst-2-english and revision 714eb0f (https://huggingface.co/distilbert/distilbert-base-uncased-finetuned-sst-2-english).\n",
      "Using a pipeline without specifying a model name and revision in production is not recommended.\n",
      "Device set to use cpu\n"
     ]
    }
   ],
   "execution_count": 8
  },
  {
   "cell_type": "code",
   "id": "b8734d53",
   "metadata": {
    "ExecuteTime": {
     "end_time": "2025-03-19T12:56:18.868408Z",
     "start_time": "2025-03-19T12:56:18.834149Z"
    }
   },
   "source": [
    "sentiment_classifier(\"I'm so excited to be learning about large language models\")"
   ],
   "outputs": [
    {
     "data": {
      "text/plain": [
       "[{'label': 'POSITIVE', 'score': 0.9997096657752991}]"
      ]
     },
     "execution_count": 9,
     "metadata": {},
     "output_type": "execute_result"
    }
   ],
   "execution_count": 9
  },
  {
   "cell_type": "code",
   "id": "ce372696",
   "metadata": {
    "ExecuteTime": {
     "end_time": "2025-03-19T12:56:19.086107Z",
     "start_time": "2025-03-19T12:56:18.876075Z"
    }
   },
   "source": [
    "ner = pipeline(\"ner\", model = \"dslim/bert-base-NER\")"
   ],
   "outputs": [
    {
     "name": "stderr",
     "output_type": "stream",
     "text": [
      "Some weights of the model checkpoint at dslim/bert-base-NER were not used when initializing BertForTokenClassification: ['bert.pooler.dense.bias', 'bert.pooler.dense.weight']\n",
      "- This IS expected if you are initializing BertForTokenClassification from the checkpoint of a model trained on another task or with another architecture (e.g. initializing a BertForSequenceClassification model from a BertForPreTraining model).\n",
      "- This IS NOT expected if you are initializing BertForTokenClassification from the checkpoint of a model that you expect to be exactly identical (initializing a BertForSequenceClassification model from a BertForSequenceClassification model).\n",
      "Device set to use cpu\n"
     ]
    }
   ],
   "execution_count": 10
  },
  {
   "cell_type": "markdown",
   "id": "fac8dd1f",
   "metadata": {},
   "source": [
    "ner(\"Her name is Anna and she works in New York City for Morgan Stanley\")"
   ]
  },
  {
   "cell_type": "code",
   "id": "f464febe",
   "metadata": {
    "ExecuteTime": {
     "end_time": "2025-03-19T12:56:19.817767Z",
     "start_time": "2025-03-19T12:56:19.117380Z"
    }
   },
   "source": [
    "zeroshot_classifier = pipeline(\"zero-shot-classification\", model = \"facebook/bart-large-mnli\")"
   ],
   "outputs": [
    {
     "name": "stderr",
     "output_type": "stream",
     "text": [
      "Device set to use cpu\n"
     ]
    }
   ],
   "execution_count": 11
  },
  {
   "cell_type": "code",
   "id": "c138d0c0",
   "metadata": {
    "ExecuteTime": {
     "end_time": "2025-03-19T12:56:19.827312Z",
     "start_time": "2025-03-19T12:56:19.824312Z"
    }
   },
   "source": [
    "sequence_to_classify = \"one day I will see the world\"\n",
    "candidate_labels = ['travel', 'cooking', 'dancing']"
   ],
   "outputs": [],
   "execution_count": 12
  },
  {
   "cell_type": "code",
   "id": "3a6eaf1a",
   "metadata": {
    "ExecuteTime": {
     "end_time": "2025-03-19T12:56:20.279193Z",
     "start_time": "2025-03-19T12:56:19.851543Z"
    }
   },
   "source": [
    "zeroshot_classifier(sequence_to_classify, candidate_labels)"
   ],
   "outputs": [
    {
     "data": {
      "text/plain": [
       "{'sequence': 'one day I will see the world',\n",
       " 'labels': ['travel', 'dancing', 'cooking'],\n",
       " 'scores': [0.9938650727272034, 0.0032737981528043747, 0.0028610387817025185]}"
      ]
     },
     "execution_count": 13,
     "metadata": {},
     "output_type": "execute_result"
    }
   ],
   "execution_count": 13
  },
  {
   "cell_type": "markdown",
   "id": "130de83c",
   "metadata": {},
   "source": [
    "## Pre-trained Tokenizers"
   ]
  },
  {
   "cell_type": "code",
   "id": "5e8b1939",
   "metadata": {
    "ExecuteTime": {
     "end_time": "2025-03-19T12:56:20.286646Z",
     "start_time": "2025-03-19T12:56:20.283199Z"
    }
   },
   "source": [
    "from transformers import AutoTokenizer"
   ],
   "outputs": [],
   "execution_count": 14
  },
  {
   "cell_type": "code",
   "id": "6cb44b10",
   "metadata": {
    "ExecuteTime": {
     "end_time": "2025-03-19T12:56:20.337811Z",
     "start_time": "2025-03-19T12:56:20.334811Z"
    }
   },
   "source": [
    "model = \"bert-base-uncased\""
   ],
   "outputs": [],
   "execution_count": 15
  },
  {
   "cell_type": "code",
   "id": "5de15bf0",
   "metadata": {
    "ExecuteTime": {
     "end_time": "2025-03-19T12:56:20.566058Z",
     "start_time": "2025-03-19T12:56:20.370100Z"
    }
   },
   "source": [
    "tokenizer = AutoTokenizer.from_pretrained(model)"
   ],
   "outputs": [],
   "execution_count": 16
  },
  {
   "cell_type": "code",
   "id": "f503b38a",
   "metadata": {
    "ExecuteTime": {
     "end_time": "2025-03-19T12:56:20.578033Z",
     "start_time": "2025-03-19T12:56:20.575310Z"
    }
   },
   "source": [
    "sentence = \"I'm so excited to be learning about large language models\""
   ],
   "outputs": [],
   "execution_count": 17
  },
  {
   "cell_type": "code",
   "id": "e0970810",
   "metadata": {
    "ExecuteTime": {
     "end_time": "2025-03-19T12:56:20.591616Z",
     "start_time": "2025-03-19T12:56:20.588101Z"
    }
   },
   "source": [
    "input_ids = tokenizer(sentence)\n",
    "print(input_ids)"
   ],
   "outputs": [
    {
     "name": "stdout",
     "output_type": "stream",
     "text": [
      "{'input_ids': [101, 1045, 1005, 1049, 2061, 7568, 2000, 2022, 4083, 2055, 2312, 2653, 4275, 102], 'token_type_ids': [0, 0, 0, 0, 0, 0, 0, 0, 0, 0, 0, 0, 0, 0], 'attention_mask': [1, 1, 1, 1, 1, 1, 1, 1, 1, 1, 1, 1, 1, 1]}\n"
     ]
    }
   ],
   "execution_count": 18
  },
  {
   "cell_type": "code",
   "id": "3a41e755",
   "metadata": {
    "ExecuteTime": {
     "end_time": "2025-03-19T12:56:20.614928Z",
     "start_time": "2025-03-19T12:56:20.611966Z"
    }
   },
   "source": [
    "tokens = tokenizer.tokenize(sentence)"
   ],
   "outputs": [],
   "execution_count": 19
  },
  {
   "cell_type": "code",
   "id": "6e005444",
   "metadata": {
    "ExecuteTime": {
     "end_time": "2025-03-19T12:56:20.638360Z",
     "start_time": "2025-03-19T12:56:20.635269Z"
    }
   },
   "source": [
    "print(tokens)"
   ],
   "outputs": [
    {
     "name": "stdout",
     "output_type": "stream",
     "text": [
      "['i', \"'\", 'm', 'so', 'excited', 'to', 'be', 'learning', 'about', 'large', 'language', 'models']\n"
     ]
    }
   ],
   "execution_count": 20
  },
  {
   "cell_type": "code",
   "id": "1cb5b40e",
   "metadata": {
    "ExecuteTime": {
     "end_time": "2025-03-19T12:56:20.647872Z",
     "start_time": "2025-03-19T12:56:20.644867Z"
    }
   },
   "source": [
    "token_ids = tokenizer.convert_tokens_to_ids(tokens)"
   ],
   "outputs": [],
   "execution_count": 21
  },
  {
   "cell_type": "code",
   "id": "75a8ee5b",
   "metadata": {
    "ExecuteTime": {
     "end_time": "2025-03-19T12:56:20.669432Z",
     "start_time": "2025-03-19T12:56:20.665721Z"
    }
   },
   "source": [
    "print(token_ids)"
   ],
   "outputs": [
    {
     "name": "stdout",
     "output_type": "stream",
     "text": [
      "[1045, 1005, 1049, 2061, 7568, 2000, 2022, 4083, 2055, 2312, 2653, 4275]\n"
     ]
    }
   ],
   "execution_count": 22
  },
  {
   "cell_type": "code",
   "id": "5f4e25c5",
   "metadata": {
    "ExecuteTime": {
     "end_time": "2025-03-19T12:56:20.680360Z",
     "start_time": "2025-03-19T12:56:20.676437Z"
    }
   },
   "source": [
    "decoded_ids = tokenizer.decode(token_ids)\n",
    "print(decoded_ids)"
   ],
   "outputs": [
    {
     "name": "stdout",
     "output_type": "stream",
     "text": [
      "i ' m so excited to be learning about large language models\n"
     ]
    }
   ],
   "execution_count": 23
  },
  {
   "cell_type": "code",
   "id": "a97a1459",
   "metadata": {
    "ExecuteTime": {
     "end_time": "2025-03-19T12:56:20.706833Z",
     "start_time": "2025-03-19T12:56:20.702692Z"
    }
   },
   "source": [
    "tokenizer.decode(101)"
   ],
   "outputs": [
    {
     "data": {
      "text/plain": [
       "'[CLS]'"
      ]
     },
     "execution_count": 24,
     "metadata": {},
     "output_type": "execute_result"
    }
   ],
   "execution_count": 24
  },
  {
   "cell_type": "code",
   "id": "75c0c5c8",
   "metadata": {
    "ExecuteTime": {
     "end_time": "2025-03-19T12:56:20.729590Z",
     "start_time": "2025-03-19T12:56:20.725326Z"
    }
   },
   "source": [
    "tokenizer.decode(102)"
   ],
   "outputs": [
    {
     "data": {
      "text/plain": [
       "'[SEP]'"
      ]
     },
     "execution_count": 25,
     "metadata": {},
     "output_type": "execute_result"
    }
   ],
   "execution_count": 25
  },
  {
   "cell_type": "code",
   "id": "bd9b1780",
   "metadata": {
    "ExecuteTime": {
     "end_time": "2025-03-19T12:56:20.742586Z",
     "start_time": "2025-03-19T12:56:20.740096Z"
    }
   },
   "source": [
    "model2 = \"xlnet-base-cased\""
   ],
   "outputs": [],
   "execution_count": 26
  },
  {
   "cell_type": "code",
   "id": "df5f1551",
   "metadata": {
    "ExecuteTime": {
     "end_time": "2025-03-19T12:56:21.495872Z",
     "start_time": "2025-03-19T12:56:20.761189Z"
    }
   },
   "source": [
    "tokenizer2 = AutoTokenizer.from_pretrained(model2)"
   ],
   "outputs": [],
   "execution_count": 27
  },
  {
   "cell_type": "code",
   "id": "8adf9259",
   "metadata": {
    "ExecuteTime": {
     "end_time": "2025-03-19T12:56:21.505876Z",
     "start_time": "2025-03-19T12:56:21.501877Z"
    }
   },
   "source": [
    "input_ids = tokenizer2(sentence)"
   ],
   "outputs": [],
   "execution_count": 28
  },
  {
   "cell_type": "code",
   "id": "11ed496e",
   "metadata": {
    "ExecuteTime": {
     "end_time": "2025-03-19T12:56:21.524198Z",
     "start_time": "2025-03-19T12:56:21.519193Z"
    }
   },
   "source": [
    "print(input_ids)"
   ],
   "outputs": [
    {
     "name": "stdout",
     "output_type": "stream",
     "text": [
      "{'input_ids': [35, 26, 98, 102, 5564, 22, 39, 1899, 75, 392, 1243, 2626, 4, 3], 'token_type_ids': [0, 0, 0, 0, 0, 0, 0, 0, 0, 0, 0, 0, 0, 2], 'attention_mask': [1, 1, 1, 1, 1, 1, 1, 1, 1, 1, 1, 1, 1, 1]}\n"
     ]
    }
   ],
   "execution_count": 29
  },
  {
   "cell_type": "code",
   "id": "d36c6228",
   "metadata": {
    "ExecuteTime": {
     "end_time": "2025-03-19T12:56:21.559700Z",
     "start_time": "2025-03-19T12:56:21.556074Z"
    }
   },
   "source": [
    "tokens = tokenizer2.tokenize(sentence)\n",
    "print(tokens)"
   ],
   "outputs": [
    {
     "name": "stdout",
     "output_type": "stream",
     "text": [
      "['▁I', \"'\", 'm', '▁so', '▁excited', '▁to', '▁be', '▁learning', '▁about', '▁large', '▁language', '▁models']\n"
     ]
    }
   ],
   "execution_count": 30
  },
  {
   "cell_type": "code",
   "id": "ba9c6510",
   "metadata": {
    "ExecuteTime": {
     "end_time": "2025-03-19T12:56:21.582191Z",
     "start_time": "2025-03-19T12:56:21.579471Z"
    }
   },
   "source": [
    "token_ids = tokenizer2.convert_tokens_to_ids(tokens)\n",
    "print(token_ids)"
   ],
   "outputs": [
    {
     "name": "stdout",
     "output_type": "stream",
     "text": [
      "[35, 26, 98, 102, 5564, 22, 39, 1899, 75, 392, 1243, 2626]\n"
     ]
    }
   ],
   "execution_count": 31
  },
  {
   "cell_type": "code",
   "id": "63d0d239",
   "metadata": {
    "ExecuteTime": {
     "end_time": "2025-03-19T12:56:21.613451Z",
     "start_time": "2025-03-19T12:56:21.608939Z"
    }
   },
   "source": [
    "tokenizer2.decode(4)"
   ],
   "outputs": [
    {
     "data": {
      "text/plain": [
       "'<sep>'"
      ]
     },
     "execution_count": 32,
     "metadata": {},
     "output_type": "execute_result"
    }
   ],
   "execution_count": 32
  },
  {
   "cell_type": "code",
   "id": "17837584",
   "metadata": {
    "ExecuteTime": {
     "end_time": "2025-03-19T12:56:21.648386Z",
     "start_time": "2025-03-19T12:56:21.645023Z"
    }
   },
   "source": [
    "tokenizer2.decode(3)"
   ],
   "outputs": [
    {
     "data": {
      "text/plain": [
       "'<cls>'"
      ]
     },
     "execution_count": 33,
     "metadata": {},
     "output_type": "execute_result"
    }
   ],
   "execution_count": 33
  },
  {
   "cell_type": "markdown",
   "id": "eda96361",
   "metadata": {},
   "source": [
    "## Huggingface and Pytorch/Tensorflow"
   ]
  },
  {
   "cell_type": "code",
   "id": "10eb3082",
   "metadata": {
    "ExecuteTime": {
     "end_time": "2025-03-19T12:56:21.691975Z",
     "start_time": "2025-03-19T12:56:21.688969Z"
    }
   },
   "source": [
    "from transformers import AutoTokenizer, AutoModelForSequenceClassification\n",
    "import torch"
   ],
   "outputs": [],
   "execution_count": 34
  },
  {
   "cell_type": "code",
   "id": "4b9de0a8",
   "metadata": {
    "ExecuteTime": {
     "end_time": "2025-03-19T12:56:21.724811Z",
     "start_time": "2025-03-19T12:56:21.720294Z"
    }
   },
   "source": [
    "print(sentence)\n",
    "print(input_ids)"
   ],
   "outputs": [
    {
     "name": "stdout",
     "output_type": "stream",
     "text": [
      "I'm so excited to be learning about large language models\n",
      "{'input_ids': [35, 26, 98, 102, 5564, 22, 39, 1899, 75, 392, 1243, 2626, 4, 3], 'token_type_ids': [0, 0, 0, 0, 0, 0, 0, 0, 0, 0, 0, 0, 0, 2], 'attention_mask': [1, 1, 1, 1, 1, 1, 1, 1, 1, 1, 1, 1, 1, 1]}\n"
     ]
    }
   ],
   "execution_count": 35
  },
  {
   "cell_type": "code",
   "id": "a18fa6b0",
   "metadata": {
    "ExecuteTime": {
     "end_time": "2025-03-19T12:56:21.932545Z",
     "start_time": "2025-03-19T12:56:21.740459Z"
    }
   },
   "source": [
    "tokenizer = AutoTokenizer.from_pretrained(\"distilbert-base-uncased-finetuned-sst-2-english\")"
   ],
   "outputs": [],
   "execution_count": 36
  },
  {
   "cell_type": "code",
   "id": "92de656d",
   "metadata": {
    "ExecuteTime": {
     "end_time": "2025-03-19T12:56:21.951598Z",
     "start_time": "2025-03-19T12:56:21.943561Z"
    }
   },
   "source": [
    "input_ids_pt = tokenizer(sentence, return_tensors =\"pt\")\n",
    "print(input_ids_pt)"
   ],
   "outputs": [
    {
     "name": "stdout",
     "output_type": "stream",
     "text": [
      "{'input_ids': tensor([[ 101, 1045, 1005, 1049, 2061, 7568, 2000, 2022, 4083, 2055, 2312, 2653,\n",
      "         4275,  102]]), 'attention_mask': tensor([[1, 1, 1, 1, 1, 1, 1, 1, 1, 1, 1, 1, 1, 1]])}\n"
     ]
    }
   ],
   "execution_count": 37
  },
  {
   "cell_type": "code",
   "id": "46ecf145",
   "metadata": {
    "ExecuteTime": {
     "end_time": "2025-03-19T12:56:22.159148Z",
     "start_time": "2025-03-19T12:56:21.963960Z"
    }
   },
   "source": [
    "model = AutoModelForSequenceClassification.from_pretrained(\"distilbert-base-uncased-finetuned-sst-2-english\")"
   ],
   "outputs": [],
   "execution_count": 38
  },
  {
   "cell_type": "code",
   "id": "7cf09a14",
   "metadata": {
    "ExecuteTime": {
     "end_time": "2025-03-19T12:56:22.277572Z",
     "start_time": "2025-03-19T12:56:22.171565Z"
    }
   },
   "source": [
    "with torch.no_grad():\n",
    "    logits = model(**input_ids_pt).logits\n",
    "\n",
    "predicted_class_id = logits.argmax().item()\n",
    "model.config.id2label[predicted_class_id]"
   ],
   "outputs": [
    {
     "data": {
      "text/plain": [
       "'POSITIVE'"
      ]
     },
     "execution_count": 39,
     "metadata": {},
     "output_type": "execute_result"
    }
   ],
   "execution_count": 39
  },
  {
   "cell_type": "markdown",
   "id": "6a0802a3",
   "metadata": {},
   "source": [
    "## Saving and loading models"
   ]
  },
  {
   "cell_type": "code",
   "id": "5a34c7e0",
   "metadata": {
    "ExecuteTime": {
     "end_time": "2025-03-19T12:56:22.296444Z",
     "start_time": "2025-03-19T12:56:22.293890Z"
    }
   },
   "source": [
    "model_directory = \"my_saved_models\""
   ],
   "outputs": [],
   "execution_count": 40
  },
  {
   "cell_type": "code",
   "id": "dc9a7c4b",
   "metadata": {
    "ExecuteTime": {
     "end_time": "2025-03-19T12:56:22.325714Z",
     "start_time": "2025-03-19T12:56:22.311553Z"
    }
   },
   "source": [
    "tokenizer.save_pretrained(model_directory)"
   ],
   "outputs": [
    {
     "data": {
      "text/plain": [
       "('my_saved_models\\\\tokenizer_config.json',\n",
       " 'my_saved_models\\\\special_tokens_map.json',\n",
       " 'my_saved_models\\\\vocab.txt',\n",
       " 'my_saved_models\\\\added_tokens.json',\n",
       " 'my_saved_models\\\\tokenizer.json')"
      ]
     },
     "execution_count": 41,
     "metadata": {},
     "output_type": "execute_result"
    }
   ],
   "execution_count": 41
  },
  {
   "cell_type": "code",
   "id": "d7cfb1d1",
   "metadata": {
    "ExecuteTime": {
     "end_time": "2025-03-19T12:56:22.689852Z",
     "start_time": "2025-03-19T12:56:22.364073Z"
    }
   },
   "source": [
    "model.save_pretrained(model_directory)"
   ],
   "outputs": [],
   "execution_count": 42
  },
  {
   "cell_type": "code",
   "id": "f6c1034b",
   "metadata": {
    "ExecuteTime": {
     "end_time": "2025-03-19T12:56:22.736958Z",
     "start_time": "2025-03-19T12:56:22.695343Z"
    }
   },
   "source": [
    "my_tokenizer = AutoTokenizer.from_pretrained(model_directory)"
   ],
   "outputs": [],
   "execution_count": 43
  },
  {
   "cell_type": "code",
   "id": "c76b4a82",
   "metadata": {
    "ExecuteTime": {
     "end_time": "2025-03-19T12:56:22.791368Z",
     "start_time": "2025-03-19T12:56:22.756815Z"
    }
   },
   "source": [
    "my_model = AutoModelForSequenceClassification.from_pretrained(model_directory)"
   ],
   "outputs": [],
   "execution_count": 44
  }
 ],
 "metadata": {
  "kernelspec": {
   "display_name": "Python [conda env:base] *",
   "language": "python",
   "name": "conda-base-py"
  },
  "language_info": {
   "codemirror_mode": {
    "name": "ipython",
    "version": 3
   },
   "file_extension": ".py",
   "mimetype": "text/x-python",
   "name": "python",
   "nbconvert_exporter": "python",
   "pygments_lexer": "ipython3",
   "version": "3.11.11"
  }
 },
 "nbformat": 4,
 "nbformat_minor": 5
}
